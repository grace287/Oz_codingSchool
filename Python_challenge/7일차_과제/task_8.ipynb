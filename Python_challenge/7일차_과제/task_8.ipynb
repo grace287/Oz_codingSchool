{
 "cells": [
  {
   "cell_type": "markdown",
   "metadata": {},
   "source": [
    "여러분이 자주 사용하는 수학적 연산<br>\n",
    "(예: 삼각형 넓이, 원의 넓이, 직육면체의 넓이)을 수행하는 함수들을 포함하는 mymath.py라는 이름의 모듈을 만드세요. \n",
    "\n",
    "이 모듈을 사용하여 작성된 함수들을 실제로 임포트하고 사용하는 간단한 프로그램을 작성하세요."
   ]
  },
  {
   "cell_type": "code",
   "execution_count": 1,
   "metadata": {},
   "outputs": [],
   "source": [
    "#mymath.py 파일 생성\n",
    "def triangle_area(base, height):\n",
    "    return 0.5 * base * height\n",
    "\n",
    "def circle_area(radius):\n",
    "    return math.pi * radius ** 2\n",
    "\n",
    "def cuboid_area(length, width, height):\n",
    "    return 2 * (length * width + width * height + height * length)"
   ]
  },
  {
   "cell_type": "code",
   "execution_count": 3,
   "metadata": {},
   "outputs": [
    {
     "ename": "ModuleNotFoundError",
     "evalue": "No module named 'mymath'",
     "output_type": "error",
     "traceback": [
      "\u001b[1;31m---------------------------------------------------------------------------\u001b[0m",
      "\u001b[1;31mModuleNotFoundError\u001b[0m                       Traceback (most recent call last)",
      "Cell \u001b[1;32mIn[3], line 30\u001b[0m\n\u001b[0;32m     27\u001b[0m     \u001b[38;5;28;01mreturn\u001b[39;00m \u001b[38;5;241m2\u001b[39m \u001b[38;5;241m*\u001b[39m (length \u001b[38;5;241m*\u001b[39m width \u001b[38;5;241m+\u001b[39m length \u001b[38;5;241m*\u001b[39m height \u001b[38;5;241m+\u001b[39m width \u001b[38;5;241m*\u001b[39m height)\n\u001b[0;32m     29\u001b[0m \u001b[38;5;66;03m# 실행 코드\u001b[39;00m\n\u001b[1;32m---> 30\u001b[0m \u001b[38;5;28;01mfrom\u001b[39;00m \u001b[38;5;21;01mmymath\u001b[39;00m \u001b[38;5;28;01mimport\u001b[39;00m average, median, std_dev, triangle_area, circle_area, cuboid_area\n\u001b[0;32m     32\u001b[0m numbers \u001b[38;5;241m=\u001b[39m [\u001b[38;5;241m1\u001b[39m, \u001b[38;5;241m2\u001b[39m, \u001b[38;5;241m3\u001b[39m, \u001b[38;5;241m4\u001b[39m, \u001b[38;5;241m5\u001b[39m]\n\u001b[0;32m     34\u001b[0m \u001b[38;5;66;03m# 삼각형 넓이 계산\u001b[39;00m\n",
      "\u001b[1;31mModuleNotFoundError\u001b[0m: No module named 'mymath'"
     ]
    }
   ],
   "source": [
    "# mymath.py 모듈 정의\n",
    "def average(numbers):\n",
    "    return sum(numbers) / len(numbers)\n",
    "\n",
    "def median(numbers):\n",
    "    sorted_numbers = sorted(numbers)\n",
    "    n = len(sorted_numbers)\n",
    "    mid = n // 2\n",
    "    if n % 2 == 0:  # 짝수 개수일 때\n",
    "        return (sorted_numbers[mid - 1] + sorted_numbers[mid]) / 2\n",
    "    else:  # 홀수 개수일 때\n",
    "        return sorted_numbers[mid]\n",
    "\n",
    "def std_dev(numbers):\n",
    "    avg = average(numbers)\n",
    "    variance = sum((x - avg) ** 2 for x in numbers) / len(numbers)\n",
    "    return variance ** 0.5\n",
    "\n",
    "def triangle_area(base, height):\n",
    "    return 0.5 * base * height\n",
    "\n",
    "def circle_area(radius):\n",
    "    import math\n",
    "    return math.pi * (radius ** 2)\n",
    "\n",
    "def cuboid_area(length, width, height):\n",
    "    return 2 * (length * width + length * height + width * height)\n",
    "\n",
    "# 실행 코드\n",
    "from mymath import average, median, std_dev, triangle_area, circle_area, cuboid_area\n",
    "\n",
    "numbers = [1, 2, 3, 4, 5]\n",
    "\n",
    "# 삼각형 넓이 계산\n",
    "base = 3\n",
    "height = 10\n",
    "print(\"삼각형의 넓이:\", triangle_area(base, height))\n",
    "\n",
    "# 원의 넓이 계산\n",
    "radius = 4\n",
    "print(\"원의 넓이:\", circle_area(radius))\n",
    "\n",
    "# 직육면체 넓이 계산\n",
    "length = 5\n",
    "width = 10\n",
    "height = 4\n",
    "print(\"직육면체 넓이:\", cuboid_area(length, width, height))\n",
    "\n",
    "# 평균, 중앙값, 표준편차 계산\n",
    "print(\"평균:\", average(numbers))\n",
    "print(\"중앙값:\", median(numbers))\n",
    "print(\"표준편차:\", std_dev(numbers))\n"
   ]
  },
  {
   "cell_type": "markdown",
   "metadata": {},
   "source": []
  }
 ],
 "metadata": {
  "kernelspec": {
   "display_name": "Python 3",
   "language": "python",
   "name": "python3"
  },
  "language_info": {
   "codemirror_mode": {
    "name": "ipython",
    "version": 3
   },
   "file_extension": ".py",
   "mimetype": "text/x-python",
   "name": "python",
   "nbconvert_exporter": "python",
   "pygments_lexer": "ipython3",
   "version": "3.11.9"
  }
 },
 "nbformat": 4,
 "nbformat_minor": 2
}
