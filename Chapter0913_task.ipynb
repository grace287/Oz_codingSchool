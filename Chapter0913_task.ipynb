{
  "cells": [
    {
      "cell_type": "markdown",
      "metadata": {
        "id": "fD4Qab2qYgOm"
      },
      "source": [
        "안녕하세요. 수강생 여러분~! Chapter09 ~ 13 수업은 잘 들으셨나요?\n",
        "\n",
        "Chapter09 ~ 13의 수업 내용을 바탕으로 아래 문제를 풀어주시면 됩니다.\n",
        "\n",
        "[**답변 입력 방법**]\n",
        "\n",
        "문제 아래에 있는 코드 입력창에 정답코드를 작성하신 후 ▷ 버튼을 클릭해 코드를 실행해보세요<br>"
      ]
    },
    {
      "cell_type": "markdown",
      "metadata": {
        "id": "slaPW6x21UPa"
      },
      "source": [
        "---"
      ]
    },
    {
      "cell_type": "markdown",
      "metadata": {
        "id": "swqdcIl8Yn-c"
      },
      "source": [
        "[문제1]<br>\n",
        "\n",
        "movie_rank 리스트에는 아래와 같이 네 개의 영화 제목이 바인딩되어 있다. \"비밀\"을 \"나폴레옹\"과 \"괴물\" 사이에 추가해주세요\n",
        "\n",
        "\n",
        "\n",
        "```\n",
        "movie = ['서울의 봄', '나폴레옹', '괴물', '베트맨']\n",
        "```\n",
        "\n"
      ]
    },
    {
      "cell_type": "code",
      "execution_count": 2,
      "metadata": {
        "id": "vjUhNFdBYo2n",
        "colab": {
          "base_uri": "https://localhost:8080/"
        },
        "outputId": "dd8e2c83-1f98-48e3-d6db-ead280801982"
      },
      "outputs": [
        {
          "output_type": "stream",
          "name": "stdout",
          "text": [
            "['서울의 봄', '나폴레옹', '비밀', '괴물', '베트맨']\n"
          ]
        }
      ],
      "source": [
        "movie = ['서울의 봄', '나폴레옹', '괴물', '베트맨']\n",
        "movie.insert(2, '비밀')\n",
        "print(movie)"
      ]
    },
    {
      "cell_type": "markdown",
      "metadata": {
        "id": "2YTC842b1UPc"
      },
      "source": [
        "---"
      ]
    },
    {
      "cell_type": "markdown",
      "metadata": {
        "id": "KZBNuM5MYpZR"
      },
      "source": [
        "[문제2]<br>\n",
        "\n",
        "movie_rank 리스트에서 '베트맨'를 삭제해주세요\n",
        "\n",
        "```\n",
        "movie = ['서울의 봄', '나폴레옹', '비밀', '괴물', '베트맨']\n",
        "```\n",
        "\n"
      ]
    },
    {
      "cell_type": "code",
      "execution_count": 3,
      "metadata": {
        "id": "cPezrT7cYreh",
        "colab": {
          "base_uri": "https://localhost:8080/"
        },
        "outputId": "33a5866b-99f3-488b-a74a-ad090644796d"
      },
      "outputs": [
        {
          "output_type": "stream",
          "name": "stdout",
          "text": [
            "['서울의 봄', '나폴레옹', '비밀', '괴물']\n"
          ]
        }
      ],
      "source": [
        "movie = ['서울의 봄', '나폴레옹', '비밀', '괴물', '베트맨']\n",
        "movie.remove('베트맨')\n",
        "\n",
        "print(movie)"
      ]
    },
    {
      "cell_type": "markdown",
      "metadata": {
        "id": "UQMHEvhP1UPc"
      },
      "source": [
        "---"
      ]
    },
    {
      "cell_type": "markdown",
      "metadata": {
        "id": "i8EJYPY0YsAe"
      },
      "source": [
        "[문제3]<br>\n",
        "\n",
        "[언어1]과 [언어2] 리스트가 있을 때 언어1과 언어2의 원소를 모두 갖고 있는 [언어모음]이라는 list를 만들어주세요\n",
        "\n",
        "```lang1 = [\"C\", \"C++\", \"JAVA\"]```<br>\n",
        "```lang2 = [\"Python\", \"Go\", \"C#\"]```  \n",
        "\n",
        "실행 예:\n",
        "언어들\n",
        "['C', 'C++', 'JAVA', 'Python', 'Go', 'C#']"
      ]
    },
    {
      "cell_type": "code",
      "execution_count": 5,
      "metadata": {
        "colab": {
          "base_uri": "https://localhost:8080/"
        },
        "id": "Rk1giUSV1UPd",
        "outputId": "b7ef5966-c3dc-4e39-8aba-04f3c2b77d70"
      },
      "outputs": [
        {
          "output_type": "stream",
          "name": "stdout",
          "text": [
            "언어들 ['C', 'C++', 'JAVA', 'Python', 'Go', 'C#']\n"
          ]
        }
      ],
      "source": [
        "lang1 = [\"C\", \"C++\", \"JAVA\"]\n",
        "lang2 = [\"Python\", \"Go\", \"C#\"]\n",
        "\n",
        "언어모음 = lang1.copy()  # lang1의 복사본을 생성\n",
        "언어모음.extend(lang2)  # lang2의 요소를 추가\n",
        "\n",
        "print(\"언어들\", 언어모음)\n"
      ]
    },
    {
      "cell_type": "markdown",
      "metadata": {
        "id": "gbNewm531UPd"
      },
      "source": [
        "---"
      ]
    },
    {
      "cell_type": "markdown",
      "metadata": {
        "id": "5VFysaYRwT69"
      },
      "source": [
        "[문제4]<br>\n",
        "\n",
        "다음 리스트에서 최댓값과 최솟값을 출력해주세요.\n",
        "\n",
        "```\n",
        "nums = [1, 2, 3, 4, 5, 6, 7, 9, 10]\n",
        "```\n",
        "\n"
      ]
    },
    {
      "cell_type": "code",
      "execution_count": 13,
      "metadata": {
        "colab": {
          "base_uri": "https://localhost:8080/"
        },
        "id": "CC-22EzL1UPe",
        "outputId": "0a0b031c-962b-469e-94da-c64f13aaebdd"
      },
      "outputs": [
        {
          "output_type": "stream",
          "name": "stdout",
          "text": [
            "최댓값: 10\n",
            "최솟값: 1\n"
          ]
        }
      ],
      "source": [
        "nums = [1, 2, 3, 4, 5, 6, 7, 9, 10]\n",
        "\n",
        "max_value = max(nums)\n",
        "min_value = min(nums)\n",
        "\n",
        "print(\"최댓값:\", max_value)\n",
        "print(\"최솟값:\", min_value)"
      ]
    },
    {
      "cell_type": "markdown",
      "metadata": {
        "id": "c_7CzWpA1UPe"
      },
      "source": [
        "---"
      ]
    },
    {
      "cell_type": "markdown",
      "metadata": {
        "id": "5_IA50IQE2AM"
      },
      "source": [
        "[문제5]\n",
        "\n",
        "다음 리스트에 저장된 데이터의 개수를 화면에 구해주세요\n",
        "\n",
        "```cook = [\"피자\", \"김밥\", \"만두\", \"양념치킨\", \"족발\", \"피자\", \"김치만두\", \"쫄면\"]```"
      ]
    },
    {
      "cell_type": "code",
      "execution_count": 15,
      "metadata": {
        "id": "iRDvWnF8wTXa",
        "colab": {
          "base_uri": "https://localhost:8080/"
        },
        "outputId": "35ed34a1-5416-43c2-cdb4-cf8b3e6e0aad"
      },
      "outputs": [
        {
          "output_type": "stream",
          "name": "stdout",
          "text": [
            "데이터의 개수 8\n"
          ]
        }
      ],
      "source": [
        "cook = [\"피자\", \"김밥\", \"만두\", \"양념치킨\", \"족발\", \"피자\", \"김치만두\", \"쫄면\"]\n",
        "\n",
        "\n",
        "데이터개수 = len(cook)\n",
        "\n",
        "print(\"데이터의 개수\", 데이터개수)"
      ]
    },
    {
      "cell_type": "markdown",
      "metadata": {
        "id": "0EymP49i1UPe"
      },
      "source": [
        "---"
      ]
    },
    {
      "cell_type": "markdown",
      "metadata": {
        "id": "7DVH0FOBE4pt"
      },
      "source": [
        "[문제6]\n",
        "\n",
        "다음 리스트의 평균을 출력해주세요\n",
        "\n",
        "```nums = [1, 2, 3, 4, 5]```"
      ]
    },
    {
      "cell_type": "code",
      "execution_count": 16,
      "metadata": {
        "id": "NXmaxplTE4QY",
        "colab": {
          "base_uri": "https://localhost:8080/"
        },
        "outputId": "2dc5eead-94b2-4b60-a140-7d9d04ceabd7"
      },
      "outputs": [
        {
          "output_type": "stream",
          "name": "stdout",
          "text": [
            "3.0\n"
          ]
        }
      ],
      "source": [
        "nums = [1, 2, 3, 4, 5]\n",
        "\n",
        "\n",
        "평균 = sum(nums) / len(nums)\n",
        "\n",
        "print(평균)"
      ]
    },
    {
      "cell_type": "markdown",
      "metadata": {
        "id": "UxCWpVbI1UPf"
      },
      "source": [
        "---"
      ]
    },
    {
      "cell_type": "markdown",
      "metadata": {
        "id": "Cp7IpuJBFcq2"
      },
      "source": [
        "[문제7]\n",
        "\n",
        "price 변수에는 날짜와 종가 정보가 저장돼 있습니다.\n",
        "날짜 정보를 제외하고 가격 정보만을 출력해주세요\n",
        "\n",
        "```price = ['20180728', 100, 130, 140, 150, 160, 170]```\n",
        "\n",
        "출력:\n",
        "[100, 130, 140, 150, 160, 170]"
      ]
    },
    {
      "cell_type": "code",
      "execution_count": 18,
      "metadata": {
        "id": "BpMb0bHPFdKF",
        "colab": {
          "base_uri": "https://localhost:8080/"
        },
        "outputId": "62b623ce-a097-480e-d9a3-129cd77faeb9"
      },
      "outputs": [
        {
          "output_type": "stream",
          "name": "stdout",
          "text": [
            "[100, 130, 140, 150, 160, 170]\n"
          ]
        }
      ],
      "source": [
        "price = ['20180728', 100, 130, 140, 150, 160, 170]\n",
        "\n",
        "가격정보 = price[1:]\n",
        "print(가격정보)"
      ]
    },
    {
      "cell_type": "markdown",
      "metadata": {
        "id": "z1dvllOi1UPf"
      },
      "source": [
        "---"
      ]
    },
    {
      "cell_type": "markdown",
      "metadata": {
        "id": "arxKtWk9Fy-9"
      },
      "source": [
        "[문제8]\n",
        "\n",
        "아래 코드 실행 시 오류가 발생한 사유를 설명해주세요\n",
        "\n",
        "```t = (1, 2, 3)```<br>\n",
        "```t[0] = 'a' ```<br>\n",
        "```Traceback (most recent call last):```  \n",
        "   ```File \"<pyshell#46>\", line 1, in <module>```  \n",
        "      ```t[0] = 'a'```   \n",
        "```TypeError: 'tuple' object does not support item assignment```"
      ]
    },
    {
      "cell_type": "markdown",
      "metadata": {
        "id": "_2U4Hqf_Gf9v"
      },
      "source": [
        "튜플은 한 번 생선된 후에는 요소를 변경하거나 수정할 수 없다."
      ]
    },
    {
      "cell_type": "markdown",
      "metadata": {
        "id": "f8Ztb_hp1UPf"
      },
      "source": [
        "---"
      ]
    },
    {
      "cell_type": "markdown",
      "metadata": {
        "id": "1DwclZivGe72"
      },
      "source": [
        "[문제9]\n",
        "다음 딕셔너리를 사용하여 메로나 가격을 출력해주세요\n",
        "\n",
        "```ice = {'메로나': 1000,```<br>\n",
        "&emsp;&emsp;&emsp;&emsp;```'폴로포': 1200,```<br>\n",
        "&emsp;&emsp;&emsp;&emsp;```'빵빠레': 1800,```<br>\n",
        "&emsp;&emsp;&emsp;&emsp;```'죠스바': 1200,```<br>\n",
        "&emsp;&emsp;&emsp;&emsp;```'월드콘': 1500}```<br>\n",
        "\n",
        "실행 예:\n",
        "메로나 가격: 1000"
      ]
    },
    {
      "cell_type": "code",
      "execution_count": 21,
      "metadata": {
        "id": "jADTPFzOHcKk",
        "colab": {
          "base_uri": "https://localhost:8080/"
        },
        "outputId": "8906311d-9aec-47d4-c460-9fe33392a723"
      },
      "outputs": [
        {
          "output_type": "stream",
          "name": "stdout",
          "text": [
            "메로나의 가격: 1000\n"
          ]
        }
      ],
      "source": [
        "ice = {\n",
        "    '메로나': 1000,\n",
        "    '폴로포': 1200,\n",
        "    '빵빠레': 1800,\n",
        "    '죠스바': 1200,\n",
        "    '월드콘': 1500\n",
        "}\n",
        "\n",
        "print(\"메로나의 가격:\", ice['메로나'])\n"
      ]
    },
    {
      "cell_type": "markdown",
      "metadata": {
        "id": "bQLLPxUV1UPg"
      },
      "source": [
        "---"
      ]
    },
    {
      "cell_type": "markdown",
      "metadata": {
        "id": "mBs2AaqcJAXN"
      },
      "source": [
        "[문제10]\n",
        "\n",
        "다음 딕셔너리에서 메로나의 가격을 1300으로 수정해주세요\n",
        "\n",
        "```ice = {'메로나': 1000,```<br>\n",
        "&emsp;&emsp;&emsp;&emsp;```'폴로포': 1200,```<br>\n",
        "&emsp;&emsp;&emsp;&emsp;```'빵빠레': 1800,```<br>\n",
        "&emsp;&emsp;&emsp;&emsp;```'죠스바': 1200,```<br>\n",
        "&emsp;&emsp;&emsp;&emsp;```'월드콘': 1500}```<br>"
      ]
    },
    {
      "cell_type": "code",
      "execution_count": 26,
      "metadata": {
        "id": "C2RyUgoTJKsF",
        "colab": {
          "base_uri": "https://localhost:8080/"
        },
        "outputId": "d8104f40-39fc-4ba5-bdf5-0aae3109d99f"
      },
      "outputs": [
        {
          "output_type": "stream",
          "name": "stdout",
          "text": [
            "1300\n"
          ]
        }
      ],
      "source": [
        "ice = {\n",
        "    '메로나': 1000,\n",
        "    '폴로포': 1200,\n",
        "    '빵빠레': 1800,\n",
        "    '죠스바': 1200,\n",
        "    '월드콘': 1500\n",
        "}\n",
        "\n",
        "# '메로나'의 가격을 1300으로 수정\n",
        "ice['메로나'] = 1300\n",
        "\n",
        "print(ice['메로나'])"
      ]
    },
    {
      "cell_type": "markdown",
      "metadata": {
        "id": "O2-o15Z11UPg"
      },
      "source": [
        "---"
      ]
    },
    {
      "cell_type": "markdown",
      "metadata": {
        "id": "_ZdcVEtTJKS1"
      },
      "source": [
        "[문제11]\n",
        "\n",
        "아래 순서대로 주어진 수강생 이름과 등급을 하나의 딕셔너리로 만드는 코드를 작성해주세요\n",
        "\n",
        "\n",
        "이름 : 나이썬, 김자바, 김씨, 박씨샵  \n",
        "등급 :   B       B      A      C\n"
      ]
    },
    {
      "cell_type": "code",
      "execution_count": 27,
      "metadata": {
        "id": "7RyqlYwpJOp7",
        "colab": {
          "base_uri": "https://localhost:8080/"
        },
        "outputId": "cf653dc7-f1d8-4de8-ad91-199a7a636f31"
      },
      "outputs": [
        {
          "output_type": "stream",
          "name": "stdout",
          "text": [
            "{'나이썬': 'B', '김자바': 'B', '김씨': 'A', '박씨샵': 'C'}\n"
          ]
        }
      ],
      "source": [
        "이름 = [\"나이썬\", \"김자바\", \"김씨\", \"박씨샵\"]\n",
        "등급 = [\"B\", \"B\", \"A\", \"C\"]\n",
        "\n",
        "# 딕셔너리 생성\n",
        "수강생_딕셔너리 = {이름[i]: 등급[i] for i in range(len(이름))}\n",
        "\n",
        "print(수강생_딕셔너리)"
      ]
    },
    {
      "cell_type": "markdown",
      "metadata": {
        "id": "_WWTZEwu1UPg"
      },
      "source": [
        "---"
      ]
    },
    {
      "cell_type": "markdown",
      "metadata": {
        "id": "yzi6f2-YKsk4"
      },
      "source": [
        "[문제12]\n",
        "\n",
        "아래 ice 딕셔너리에 데이터를 추가 후 출력해주세요\n",
        "\n",
        "ice = {\"메로나\": [300, 20],  \n",
        "              \"비비빅\": [400, 3],  \n",
        "              \"죠스바\": [250, 100]}  \n",
        "\n",
        "\n",
        "추가해야하는 데이터 : 이름 : 보석바, 가격:650, 재고:10"
      ]
    },
    {
      "cell_type": "code",
      "execution_count": 28,
      "metadata": {
        "colab": {
          "base_uri": "https://localhost:8080/"
        },
        "id": "HG7Fmj3z1UPh",
        "outputId": "3b428257-53c7-4779-850f-75c88f41183f"
      },
      "outputs": [
        {
          "output_type": "stream",
          "name": "stdout",
          "text": [
            "{'메로나': [300, 20], '비비빅': [400, 3], '죠스바': [250, 100], '보석바': [650, 10]}\n"
          ]
        }
      ],
      "source": [
        "ice = {\n",
        "    \"메로나\": [300, 20],\n",
        "    \"비비빅\": [400, 3],\n",
        "    \"죠스바\": [250, 100]\n",
        "}\n",
        "\n",
        "# '보석바' 데이터 추가\n",
        "ice[\"보석바\"] = [650, 10]\n",
        "\n",
        "# 결과 출력\n",
        "print(ice)"
      ]
    },
    {
      "cell_type": "markdown",
      "metadata": {
        "id": "bNid2x8G1UPh"
      },
      "source": [
        "---"
      ]
    },
    {
      "cell_type": "markdown",
      "metadata": {
        "id": "RQJC80PBLWGt"
      },
      "source": [
        "[문제13]\n",
        "\n",
        "아래 딕셔너리에서 key만 출력해주세요  \n",
        "\n",
        "ice = {'메로나': 1000, '폴로포': 1200, '빵빠레': 1800, '죠스바': 1200, '월드콘': 1500}\n"
      ]
    },
    {
      "cell_type": "code",
      "execution_count": 29,
      "metadata": {
        "id": "m5m-a09iLVbO",
        "colab": {
          "base_uri": "https://localhost:8080/"
        },
        "outputId": "9fc511cf-1d59-4063-c578-b34cbfb55013"
      },
      "outputs": [
        {
          "output_type": "stream",
          "name": "stdout",
          "text": [
            "딕셔너리의 키: ['메로나', '폴로포', '빵빠레', '죠스바', '월드콘']\n"
          ]
        }
      ],
      "source": [
        "ice = {\n",
        "    '메로나': 1000,\n",
        "    '폴로포': 1200,\n",
        "    '빵빠레': 1800,\n",
        "    '죠스바': 1200,\n",
        "    '월드콘': 1500\n",
        "}\n",
        "\n",
        "# 키만 출력\n",
        "키들 = ice.keys()\n",
        "\n",
        "print(\"딕셔너리의 키:\", list(키들))\n"
      ]
    },
    {
      "cell_type": "markdown",
      "metadata": {
        "id": "G25Z1bWZ1UPi"
      },
      "source": [
        "### 프로젝트: 간단한 ATM 관리 시스템\n",
        "\n",
        "[문제 1: 잔액 확인]\n",
        "\n",
        "현재 잔액은 1000원입니다. 현재 잔액을 출력하세요."
      ]
    },
    {
      "cell_type": "code",
      "execution_count": 31,
      "metadata": {
        "colab": {
          "base_uri": "https://localhost:8080/"
        },
        "id": "JRb5DPYX1UPi",
        "outputId": "0ba97049-d8f7-496c-9553-0e013c8782d8"
      },
      "outputs": [
        {
          "output_type": "stream",
          "name": "stdout",
          "text": [
            "현재 잔액은: 1000 원입니다.\n"
          ]
        }
      ],
      "source": [
        "잔액 = 1000\n",
        "\n",
        "print(\"현재 잔액은:\", 잔액, \"원입니다.\")\n"
      ]
    },
    {
      "cell_type": "markdown",
      "metadata": {
        "id": "cdup94A31UPi"
      },
      "source": [
        "[문제 2: 입금]\n",
        "\n",
        "가지고 있는 돈을 입금합니다.\n",
        "\n",
        "입금 금액을 입력받고, 잔액을 갱신한 후 새로운 잔액을 출력하세요. 입금 거래를 영수증 리스트에 기록하세요.\n",
        "\n",
        "- 입금 금액은 input()을 이용해 받습니다.\n",
        "- 영수증은 list()로 선언합니다.\n",
        "- 영수증에 들어가는 정보는 튜플 형태입니다.\n",
        "- 튜플에 담기는 정보는 (입금 or 출금, 입금 or 출금 금액, 현재 잔액)순 입니다.\n"
      ]
    },
    {
      "cell_type": "code",
      "execution_count": null,
      "metadata": {
        "id": "7t0PUytm1UPi"
      },
      "outputs": [],
      "source": [
        "# 초기 잔액\n",
        "잔액 = 1000\n",
        "\n",
        "# 영수증 리스트 선언\n",
        "영수증 = []\n",
        "\n",
        "# 입금 금액 입력받기\n",
        "입금_금액 = int(input(\"입금 금액을 입력하세요: \"))\n",
        "\n",
        "# 잔액 갱신\n",
        "잔액 += 입금_금액\n",
        "\n",
        "# 영수증에 거래 기록 추가 (입금, 입금 금액, 현재 잔액)\n",
        "영수증.append((\"입금\", 입금_금액, 잔액))\n",
        "\n",
        "# 새로운 잔액 출력\n",
        "print(\"새로운 잔액은:\", 잔액, \"원입니다.\")\n",
        "\n",
        "# 영수증 출력\n",
        "print(\"영수증:\", 영수증)\n"
      ]
    },
    {
      "cell_type": "markdown",
      "metadata": {
        "id": "HY5bg7p91UPi"
      },
      "source": [
        "[문제 3: 출금]\n",
        "\n",
        "사용자가 돈을 출금합니다. 출금 금액을 입력받고, 잔액을 갱신한 후 새로운 잔액을 출력하세요. 출금 거래를 영수증 리스트에 기록하세요.\n",
        "\n",
        "- 출금 금액은 input()을 이용해 받습니다.\n",
        "- 현재 잔액보다 출금 요청 금액이 많을 경우 현재 잔액 만큼만 출금되도록 합니다.\n",
        "- 영수증에 들어가는 정보는 튜플 형태입니다.\n",
        "- 튜플에 담기는 정보는 (입금 or 출금, 입금 or 출금 금액, 현재 잔액)순 입니다."
      ]
    },
    {
      "cell_type": "code",
      "execution_count": null,
      "metadata": {
        "id": "T_FaWr621UPi"
      },
      "outputs": [],
      "source": [
        "잔액 = 1000\n",
        "영수증 = []\n",
        "\n",
        "출금_금액 = int(input(\"출금 금액을 입력하세요: \"))\n",
        "\n",
        "if 출금_금액 > 잔액:\n",
        "    출금_금액 = 잔액\n",
        "\n",
        "잔액 -= 출금_금액\n",
        "\n",
        "영수증.append((\"출금\", 출금_금액, 잔액))\n",
        "print(\"새로운 잔액은:\", 잔액, \"원입니다.\")\n",
        "\n",
        "print(\"영수증:\", 영수증)\n"
      ]
    },
    {
      "cell_type": "markdown",
      "metadata": {
        "id": "DFkUY6CZ1UPj"
      },
      "source": [
        "[문제 4: 모든 거래 내역 확인]\n",
        "\n",
        "모든 거래 내역(영수증)을 요청받았을 때 출력하세요.\n",
        "- 지금까지 영수증에 추가된 정보를 출력합니다.\n",
        "- 출력 형태는 자유입니다."
      ]
    },
    {
      "cell_type": "code",
      "execution_count": null,
      "metadata": {
        "id": "5t7sw9lZ1UPj"
      },
      "outputs": [],
      "source": []
    }
  ],
  "metadata": {
    "colab": {
      "provenance": []
    },
    "kernelspec": {
      "display_name": "Python 3",
      "name": "python3"
    },
    "language_info": {
      "name": "python"
    }
  },
  "nbformat": 4,
  "nbformat_minor": 0
}